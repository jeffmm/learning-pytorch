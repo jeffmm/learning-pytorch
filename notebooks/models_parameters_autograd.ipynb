{
 "cells": [
  {
   "cell_type": "markdown",
   "id": "professional-stylus",
   "metadata": {},
   "source": [
    "# Models, parameters, and Autograd"
   ]
  },
  {
   "cell_type": "code",
   "execution_count": 2,
   "id": "tight-fifty",
   "metadata": {},
   "outputs": [],
   "source": [
    "import os\n",
    "import torch\n",
    "from torch import nn\n",
    "from torch.utils.data import DataLoader\n",
    "from torchvision import datasets, transforms"
   ]
  },
  {
   "cell_type": "code",
   "execution_count": 20,
   "id": "signal-segment",
   "metadata": {},
   "outputs": [
    {
     "name": "stdout",
     "output_type": "stream",
     "text": [
      "Using cuda device\n"
     ]
    }
   ],
   "source": [
    "device = 'cuda' if torch.cuda.is_available() else 'cpu'\n",
    "print(f'Using {device} device')"
   ]
  },
  {
   "cell_type": "markdown",
   "id": "joint-huntington",
   "metadata": {},
   "source": [
    "## Neural network models"
   ]
  },
  {
   "cell_type": "code",
   "execution_count": 4,
   "id": "joined-kernel",
   "metadata": {},
   "outputs": [],
   "source": [
    "# The Base class for all neural network modules is torch.nn.Module -- \n",
    "# every module in PyTorch subclasses torch.nn.Module. Our models should\n",
    "# also subclass this class. Modules can contain other Modules, creating\n",
    "# a nested structure.\n",
    "\n",
    "class NeuralNetwork(nn.Module):\n",
    "    def __init__(self):\n",
    "        super(NeuralNetwork, self).__init__()\n",
    "        # Defines a function for flattening the data to a series of inputs... not sure\n",
    "        # why this was needed to be defined as a method.\n",
    "        self.flatten = nn.Flatten()\n",
    "        # Define NN stack. Takes in a 28*28 length series of inputs and connects to\n",
    "        # layer of 512 nodes. Then a second layer of 512, then a layer of 10 outputs.\n",
    "        # nn.Sequential is an ordered container of modules, and data passed to it\n",
    "        # gets acted on by all the moduels in the sequence in the defined order.\n",
    "        self.linear_relu_stack = nn.Sequential(\n",
    "            # Module applies linear transformation using 512 weights and biases which\n",
    "            # can be stored\n",
    "            nn.Linear(28*28, 512),\n",
    "            # Module applies non-linear activation to generate complex interactions\n",
    "            # and improve learning\n",
    "            nn.ReLU(),\n",
    "            nn.Linear(512, 512),\n",
    "            nn.ReLU(),\n",
    "            nn.Linear(512, 10),\n",
    "            nn.ReLU()\n",
    "        )\n",
    "    # Every nn.Module subclass implements operations on input data in the forward method.\n",
    "    def forward(self, x):\n",
    "        # Flatten the image into a 28*28 series of inputs\n",
    "        x = self.flatten(x)\n",
    "        # Transform the series data using the NN stack defined above\n",
    "        logits = self.linear_relu_stack(x)\n",
    "        # Return values from -inf to inf\n",
    "        return logits"
   ]
  },
  {
   "cell_type": "code",
   "execution_count": 5,
   "id": "vietnamese-commodity",
   "metadata": {},
   "outputs": [
    {
     "name": "stdout",
     "output_type": "stream",
     "text": [
      "NeuralNetwork(\n",
      "  (flatten): Flatten(start_dim=1, end_dim=-1)\n",
      "  (linear_relu_stack): Sequential(\n",
      "    (0): Linear(in_features=784, out_features=512, bias=True)\n",
      "    (1): ReLU()\n",
      "    (2): Linear(in_features=512, out_features=512, bias=True)\n",
      "    (3): ReLU()\n",
      "    (4): Linear(in_features=512, out_features=10, bias=True)\n",
      "    (5): ReLU()\n",
      "  )\n",
      ")\n"
     ]
    }
   ],
   "source": [
    "# Create instance of NeuralNetwork and move it to device\n",
    "model = NeuralNetwork().to(device)\n",
    "print(model)"
   ]
  },
  {
   "cell_type": "code",
   "execution_count": 6,
   "id": "adverse-spencer",
   "metadata": {},
   "outputs": [
    {
     "name": "stdout",
     "output_type": "stream",
     "text": [
      "Predicted class: tensor([3], device='cuda:0')\n",
      "Prediction probability: 0.1043078750371933\n"
     ]
    }
   ],
   "source": [
    "# Give the NN some random data and predict. Note: Do not call model.forward() directly!\n",
    "X = torch.rand(1, 28, 28, device=device)\n",
    "logits = model(X)\n",
    "# Softmax normalizes values to be between 0,1 and sum to 1 (corresponds to probabilities\n",
    "# of predictions)\n",
    "pred_probab = nn.Softmax(dim=1)(logits)\n",
    "# Get prediction by determining prediction with max probability\n",
    "y_pred = pred_probab.argmax(1)\n",
    "y_pred_prob = pred_probab.max()\n",
    "print(f\"Predicted class: {y_pred}\")\n",
    "print(f\"Prediction probability: {y_pred_prob}\")"
   ]
  },
  {
   "cell_type": "code",
   "execution_count": 7,
   "id": "swedish-sheep",
   "metadata": {},
   "outputs": [
    {
     "name": "stdout",
     "output_type": "stream",
     "text": [
      "torch.Size([3, 28, 28])\n"
     ]
    }
   ],
   "source": [
    "input_image = torch.rand(3,28,28)\n",
    "print(input_image.size())"
   ]
  },
  {
   "cell_type": "markdown",
   "id": "imperial-grocery",
   "metadata": {},
   "source": [
    "## Model parameters"
   ]
  },
  {
   "cell_type": "code",
   "execution_count": 8,
   "id": "novel-quebec",
   "metadata": {},
   "outputs": [
    {
     "name": "stdout",
     "output_type": "stream",
     "text": [
      "Model structure:  NeuralNetwork(\n",
      "  (flatten): Flatten(start_dim=1, end_dim=-1)\n",
      "  (linear_relu_stack): Sequential(\n",
      "    (0): Linear(in_features=784, out_features=512, bias=True)\n",
      "    (1): ReLU()\n",
      "    (2): Linear(in_features=512, out_features=512, bias=True)\n",
      "    (3): ReLU()\n",
      "    (4): Linear(in_features=512, out_features=10, bias=True)\n",
      "    (5): ReLU()\n",
      "  )\n",
      ") \n",
      "\n",
      "\n",
      "Layer: linear_relu_stack.0.weight | Size: torch.Size([512, 784]) | Values : tensor([[ 0.0171, -0.0021, -0.0003,  ..., -0.0348, -0.0158,  0.0267],\n",
      "        [-0.0133,  0.0262,  0.0289,  ..., -0.0130, -0.0296,  0.0041]],\n",
      "       device='cuda:0', grad_fn=<SliceBackward>) \n",
      "\n",
      "Layer: linear_relu_stack.0.bias | Size: torch.Size([512]) | Values : tensor([ 0.0033, -0.0229], device='cuda:0', grad_fn=<SliceBackward>) \n",
      "\n",
      "Layer: linear_relu_stack.2.weight | Size: torch.Size([512, 512]) | Values : tensor([[-0.0100, -0.0220,  0.0423,  ..., -0.0303,  0.0369,  0.0172],\n",
      "        [ 0.0435, -0.0308, -0.0086,  ..., -0.0379, -0.0366,  0.0302]],\n",
      "       device='cuda:0', grad_fn=<SliceBackward>) \n",
      "\n",
      "Layer: linear_relu_stack.2.bias | Size: torch.Size([512]) | Values : tensor([-0.0393, -0.0385], device='cuda:0', grad_fn=<SliceBackward>) \n",
      "\n",
      "Layer: linear_relu_stack.4.weight | Size: torch.Size([10, 512]) | Values : tensor([[ 0.0352, -0.0135, -0.0154,  ...,  0.0075, -0.0154, -0.0303],\n",
      "        [-0.0291,  0.0272, -0.0062,  ...,  0.0315, -0.0070,  0.0376]],\n",
      "       device='cuda:0', grad_fn=<SliceBackward>) \n",
      "\n",
      "Layer: linear_relu_stack.4.bias | Size: torch.Size([10]) | Values : tensor([0.0310, 0.0401], device='cuda:0', grad_fn=<SliceBackward>) \n",
      "\n"
     ]
    }
   ],
   "source": [
    "# Each layer of the NN is often parameterized (think weights, biases). Subclasses\n",
    "# of nn.Module automatically track parameters and can make them accessible.\n",
    "\n",
    "print(\"Model structure: \", model, \"\\n\\n\")\n",
    "\n",
    "# The first layer has 512 * 28 * 28 weights and 512 biases, etc\n",
    "# (ie each node of the first layer has weights associated with connections to\n",
    "# each of the 28*28=784 inputs, plus a bias (w_0 + w_1 x_1 + w_2 x_2 + ... + w_784 x_784)\n",
    "# for a total of 785 parameters for each of the 512 nodes in the first layer)\n",
    "\n",
    "for name, param in model.named_parameters():\n",
    "    print(f\"Layer: {name} | Size: {param.size()} | Values : {param[:2]} \\n\")"
   ]
  },
  {
   "cell_type": "markdown",
   "id": "inappropriate-examination",
   "metadata": {},
   "source": [
    "## Autograd"
   ]
  },
  {
   "cell_type": "code",
   "execution_count": 11,
   "id": "wanted-brook",
   "metadata": {},
   "outputs": [
    {
     "name": "stdout",
     "output_type": "stream",
     "text": [
      "Gradient function for z = <AddBackward0 object at 0x7fcf264b8c50>\n",
      "Gradient function for loss = <BinaryCrossEntropyWithLogitsBackward object at 0x7fcfa8049310>\n"
     ]
    }
   ],
   "source": [
    "# When training NNs, the most frequently-used algorithm is back propogation. The model \n",
    "# parameters are adjusted according to the gradient of the loss function wrt the corresponding\n",
    "# parameter.\n",
    "\n",
    "# Any time an operation is performed on a tensor that has requires_grad enabled, a computational \n",
    "# graph is built that stores both the result of the operation, but also its gradient for the back \n",
    "# prop step. Autograd is PyTorch's built-in differentiation engine, which computes the gradient\n",
    "# for any computational graph.\n",
    "\n",
    "x = torch.ones(5)  # input tensor\n",
    "y = torch.zeros(3)  # expected output\n",
    "# w and b are parameters that we want to optimize, so requires_grad=True\n",
    "w = torch.randn(5, 3, requires_grad=True)\n",
    "b = torch.randn(3, requires_grad=True)\n",
    "z = torch.matmul(x, w)+b\n",
    "# The loss function to use for back prop\n",
    "loss = torch.nn.functional.binary_cross_entropy_with_logits(z, y)\n",
    "\n",
    "print('Gradient function for z =', z.grad_fn)\n",
    "print('Gradient function for loss =', loss.grad_fn)"
   ]
  },
  {
   "cell_type": "code",
   "execution_count": 12,
   "id": "human-durham",
   "metadata": {},
   "outputs": [
    {
     "name": "stdout",
     "output_type": "stream",
     "text": [
      "tensor([[0.0217, 0.0097, 0.3308],\n",
      "        [0.0217, 0.0097, 0.3308],\n",
      "        [0.0217, 0.0097, 0.3308],\n",
      "        [0.0217, 0.0097, 0.3308],\n",
      "        [0.0217, 0.0097, 0.3308]])\n",
      "tensor([0.0217, 0.0097, 0.3308])\n"
     ]
    }
   ],
   "source": [
    "# To compute the gradient, use the backward() method of the loss function, which\n",
    "# computes dloss/dparam. The gradient will only be available for tensors that had\n",
    "# requires_grad=True.\n",
    "\n",
    "# Note that gradient calculations can only be calculated once for a given\n",
    "# computational graph for performance reasons. If for some reason multiple\n",
    "# calls to backward need to be made on the same graph, we must pass\n",
    "# retain_graph=True to the backward call.\n",
    "\n",
    "loss.backward()\n",
    "print(w.grad)\n",
    "print(b.grad)"
   ]
  },
  {
   "cell_type": "code",
   "execution_count": 19,
   "id": "filled-voltage",
   "metadata": {},
   "outputs": [
    {
     "name": "stdout",
     "output_type": "stream",
     "text": [
      "True\n",
      "False\n",
      "False\n"
     ]
    }
   ],
   "source": [
    "# We can also disable gradient tracking. Cases where we might do that are if\n",
    "# we have already trained the model and just want to apply it to some new\n",
    "# data. We may also want to freeze parameters of a model (such as in the case\n",
    "# for finetuning a pre-trained NN)\n",
    "\n",
    "z = torch.matmul(x, w) + b\n",
    "print(z.requires_grad)\n",
    "\n",
    "# Use the torch.no_grad to specify that gradients for the computational graph\n",
    "# do not need to be tracked\n",
    "with torch.no_grad():\n",
    "    z_nograd = torch.matmul(x, w) + b\n",
    "print(z_nograd.requires_grad)\n",
    "\n",
    "# We can also use the detach() tensor method\n",
    "z_det = z.detach()\n",
    "print(z_det.requires_grad)"
   ]
  },
  {
   "cell_type": "code",
   "execution_count": null,
   "id": "forty-breast",
   "metadata": {},
   "outputs": [],
   "source": []
  }
 ],
 "metadata": {
  "kernelspec": {
   "display_name": "Python 3",
   "language": "python",
   "name": "python3"
  },
  "language_info": {
   "codemirror_mode": {
    "name": "ipython",
    "version": 3
   },
   "file_extension": ".py",
   "mimetype": "text/x-python",
   "name": "python",
   "nbconvert_exporter": "python",
   "pygments_lexer": "ipython3",
   "version": "3.7.5"
  }
 },
 "nbformat": 4,
 "nbformat_minor": 5
}
