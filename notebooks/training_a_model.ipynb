{
 "cells": [
  {
   "cell_type": "code",
   "execution_count": 1,
   "id": "bound-package",
   "metadata": {},
   "outputs": [],
   "source": [
    "import torch\n",
    "from torch import nn\n",
    "from torch.utils.data import DataLoader\n",
    "from torchvision import datasets\n",
    "from torchvision.transforms import ToTensor, Lambda"
   ]
  },
  {
   "cell_type": "code",
   "execution_count": 2,
   "id": "informational-cover",
   "metadata": {},
   "outputs": [
    {
     "name": "stdout",
     "output_type": "stream",
     "text": [
      "Using cuda device\n"
     ]
    }
   ],
   "source": [
    "device = 'cuda' if torch.cuda.is_available() else 'cpu'\n",
    "print(f'Using {device} device')"
   ]
  },
  {
   "cell_type": "markdown",
   "id": "strange-privilege",
   "metadata": {},
   "source": [
    "## Training a NN model"
   ]
  },
  {
   "cell_type": "code",
   "execution_count": 3,
   "id": "aggressive-devil",
   "metadata": {},
   "outputs": [
    {
     "name": "stdout",
     "output_type": "stream",
     "text": [
      "Downloading http://fashion-mnist.s3-website.eu-central-1.amazonaws.com/train-images-idx3-ubyte.gz to ../data/FashionMNIST/raw/train-images-idx3-ubyte.gz\n"
     ]
    },
    {
     "data": {
      "application/vnd.jupyter.widget-view+json": {
       "model_id": "19a702ef1ea949348ae426b0aeb5bddd",
       "version_major": 2,
       "version_minor": 0
      },
      "text/plain": [
       "0it [00:00, ?it/s]"
      ]
     },
     "metadata": {},
     "output_type": "display_data"
    },
    {
     "name": "stdout",
     "output_type": "stream",
     "text": [
      "Extracting ../data/FashionMNIST/raw/train-images-idx3-ubyte.gz to ../data/FashionMNIST/raw\n",
      "Downloading http://fashion-mnist.s3-website.eu-central-1.amazonaws.com/train-labels-idx1-ubyte.gz to ../data/FashionMNIST/raw/train-labels-idx1-ubyte.gz\n"
     ]
    },
    {
     "data": {
      "application/vnd.jupyter.widget-view+json": {
       "model_id": "7b0eadc53588487ea469efeef6c4be16",
       "version_major": 2,
       "version_minor": 0
      },
      "text/plain": [
       "0it [00:00, ?it/s]"
      ]
     },
     "metadata": {},
     "output_type": "display_data"
    },
    {
     "name": "stdout",
     "output_type": "stream",
     "text": [
      "Extracting ../data/FashionMNIST/raw/train-labels-idx1-ubyte.gz to ../data/FashionMNIST/raw\n",
      "Downloading http://fashion-mnist.s3-website.eu-central-1.amazonaws.com/t10k-images-idx3-ubyte.gz to ../data/FashionMNIST/raw/t10k-images-idx3-ubyte.gz\n"
     ]
    },
    {
     "data": {
      "application/vnd.jupyter.widget-view+json": {
       "model_id": "4bdc9b4b63274d0c9d3b537121e824f6",
       "version_major": 2,
       "version_minor": 0
      },
      "text/plain": [
       "0it [00:00, ?it/s]"
      ]
     },
     "metadata": {},
     "output_type": "display_data"
    },
    {
     "name": "stdout",
     "output_type": "stream",
     "text": [
      "Extracting ../data/FashionMNIST/raw/t10k-images-idx3-ubyte.gz to ../data/FashionMNIST/raw\n",
      "Downloading http://fashion-mnist.s3-website.eu-central-1.amazonaws.com/t10k-labels-idx1-ubyte.gz to ../data/FashionMNIST/raw/t10k-labels-idx1-ubyte.gz\n"
     ]
    },
    {
     "data": {
      "application/vnd.jupyter.widget-view+json": {
       "model_id": "0a15f0acf51e4f5aa9c7b07ad9cd1686",
       "version_major": 2,
       "version_minor": 0
      },
      "text/plain": [
       "0it [00:00, ?it/s]"
      ]
     },
     "metadata": {},
     "output_type": "display_data"
    },
    {
     "name": "stdout",
     "output_type": "stream",
     "text": [
      "Extracting ../data/FashionMNIST/raw/t10k-labels-idx1-ubyte.gz to ../data/FashionMNIST/raw\n",
      "Processing...\n",
      "Done!\n"
     ]
    },
    {
     "name": "stderr",
     "output_type": "stream",
     "text": [
      "/usr/local/lib/python3.8/dist-packages/torchvision/datasets/mnist.py:480: UserWarning: The given NumPy array is not writeable, and PyTorch does not support non-writeable tensors. This means you can write to the underlying (supposedly non-writeable) NumPy array using the tensor. You may want to copy the array to protect its data or make it writeable before converting it to a tensor. This type of warning will be suppressed for the rest of this program. (Triggered internally at  /pytorch/torch/csrc/utils/tensor_numpy.cpp:141.)\n",
      "  return torch.from_numpy(parsed.astype(m[2], copy=False)).view(*s)\n"
     ]
    }
   ],
   "source": [
    "# Training, validating, and testing a model with data by optimizing its parameters.\n",
    "# An iterative process, where each iteration is called an epoch. Makes a prediction\n",
    "# based on the input training data, calculates the error of its guess from the loss\n",
    "# function, calculates the gradient of the error with respect to parameters using\n",
    "# autograd, and optimizes the parameters using gradient descent.\n",
    "\n",
    "# The code below is straight from the dataset_dataloaders and \n",
    "# models_parameters_autograd notebooks\n",
    "\n",
    "training_data = datasets.FashionMNIST(\n",
    "    root=\"../data\",\n",
    "    train=True,\n",
    "    download=True,\n",
    "    transform=ToTensor()\n",
    ")\n",
    "\n",
    "test_data = datasets.FashionMNIST(\n",
    "    root=\"../data\",\n",
    "    train=False,\n",
    "    download=True,\n",
    "    transform=ToTensor()\n",
    ")"
   ]
  },
  {
   "cell_type": "code",
   "execution_count": 4,
   "id": "geological-camera",
   "metadata": {},
   "outputs": [],
   "source": [
    "class NeuralNetwork(nn.Module):\n",
    "    def __init__(self):\n",
    "        super(NeuralNetwork, self).__init__()\n",
    "        self.flatten = nn.Flatten()\n",
    "        self.linear_relu_stack = nn.Sequential(\n",
    "            nn.Linear(28*28, 512),\n",
    "            nn.ReLU(),\n",
    "            nn.Linear(512, 512),\n",
    "            nn.ReLU(),\n",
    "            nn.Linear(512, 10),\n",
    "            nn.ReLU()\n",
    "        )\n",
    "\n",
    "    def forward(self, x):\n",
    "        x = self.flatten(x)\n",
    "        logits = self.linear_relu_stack(x)\n",
    "        return logits"
   ]
  },
  {
   "cell_type": "code",
   "execution_count": 56,
   "id": "strange-branch",
   "metadata": {},
   "outputs": [],
   "source": [
    "# Hyperparameters are adjustable parameters that let you control the model optimization\n",
    "# process, which can impact model training and convergence rates.\n",
    "\n",
    "# Number of epochs is the number of times we will iterate over the dataset. Each epoch\n",
    "# consists of the train loop (iterating over the minibatch of the training dataset) and\n",
    "# the validation/test loop, iterating over the test dataset to check if model performance\n",
    "# is improving.\n",
    "epochs = 10\n",
    "\n",
    "# Batch size is number of data samples seen by the model in each epoch\n",
    "batch_size = 64\n",
    "\n",
    "# Learning rate is how much to update the parameters at each epoch\n",
    "learning_rate = 1e-3\n",
    "\n",
    "# Momentum is a parameter that speeds up gradient descent along directions in parameter\n",
    "# space that have a larger improvement. It effectively adds a velocity term to the update\n",
    "# step that is derived from the average over multiple steps. The momentum parameter tunes\n",
    "# the impact of the velocity term.\n",
    "momentum = 0.9\n",
    "\n",
    "# Weight decay is a regularization factor that improves model generalization by preventing\n",
    "# parameters from growing too large. The weight decay pre-multiplies the square (usually) of\n",
    "# the parameters in the loss function.\n",
    "weight_decay = 0.0005"
   ]
  },
  {
   "cell_type": "code",
   "execution_count": 57,
   "id": "selected-compression",
   "metadata": {},
   "outputs": [
    {
     "data": {
      "text/plain": [
       "NeuralNetwork(\n",
       "  (flatten): Flatten(start_dim=1, end_dim=-1)\n",
       "  (linear_relu_stack): Sequential(\n",
       "    (0): Linear(in_features=784, out_features=512, bias=True)\n",
       "    (1): ReLU()\n",
       "    (2): Linear(in_features=512, out_features=512, bias=True)\n",
       "    (3): ReLU()\n",
       "    (4): Linear(in_features=512, out_features=10, bias=True)\n",
       "    (5): ReLU()\n",
       "  )\n",
       ")"
      ]
     },
     "execution_count": 57,
     "metadata": {},
     "output_type": "execute_result"
    }
   ],
   "source": [
    "# Initialize the dataloaders and model\n",
    "train_dataloader = DataLoader(training_data, batch_size=batch_size)\n",
    "test_dataloader = DataLoader(test_data, batch_size=batch_size)\n",
    "\n",
    "model = NeuralNetwork()\n",
    "model.to(device)"
   ]
  },
  {
   "cell_type": "code",
   "execution_count": 58,
   "id": "ahead-following",
   "metadata": {},
   "outputs": [],
   "source": [
    "# We also have to choose a loss function. Common loss functions include nn.MSELoss \n",
    "# (Mean Square Error) for regression tasks, and nn.NLLLoss (Negative Log Likelihood) \n",
    "# for classification. nn.CrossEntropyLoss combines nn.LogSoftmax and nn.NLLLoss.\n",
    "\n",
    "loss_fn = nn.CrossEntropyLoss()"
   ]
  },
  {
   "cell_type": "code",
   "execution_count": 59,
   "id": "rapid-shoulder",
   "metadata": {},
   "outputs": [],
   "source": [
    "# We also need to choose an optimization algorithm, which defines the process of\n",
    "# how model parameters are updated to reduce the loss. This logic is encapsulated\n",
    "# by the optimizer object. Here we use Stochastic Gradient Descent, but many other\n",
    "# optimizers are available.\n",
    "\n",
    "# The optimizer is initialized by the model parameters that need trained and the\n",
    "# learning rate.\n",
    "optimizer = torch.optim.SGD(model.parameters(), lr=learning_rate,  momentum=momentum, weight_decay=weight_decay)"
   ]
  },
  {
   "cell_type": "code",
   "execution_count": 60,
   "id": "modified-mathematics",
   "metadata": {},
   "outputs": [],
   "source": [
    "# Inside the training loop, the optimization process happens in three steps:\n",
    "# 1) Call optimizer.zero_grad() to reset the gradients of model parameters,\n",
    "#    otherwise the gradients sum up by default.\n",
    "# 2) Backpropogation using the loss.backwards() method, computing the gradients\n",
    "#    wrt each parameter.\n",
    "# 3) Call optimizer.step() method to adjust the parameters using the gradients.\n",
    "\n",
    "def train_loop(dataloader, model, loss_fn, optimizer):\n",
    "    size = len(dataloader.dataset)\n",
    "    # Get the input data X and label y from the dataloader\n",
    "    for batch, (X, y) in enumerate(dataloader):\n",
    "        # Compute the model prediction given current model parameters.\n",
    "        pred = model(X.to(device))\n",
    "        # Compute the loss from the prediction and the label\n",
    "        loss = loss_fn(pred, y.to(device))\n",
    "\n",
    "        # Optimization: zero gradients, backpropogation, adjust parameters.\n",
    "        optimizer.zero_grad()\n",
    "        loss.backward()\n",
    "        optimizer.step()\n",
    "\n",
    "def test_loop(dataloader, model, loss_fn):\n",
    "    size = len(dataloader.dataset)\n",
    "    test_loss, correct = 0, 0\n",
    "    \n",
    "    # Turn off grad computation to reduce overhead of forward pass for testing.\n",
    "    with torch.no_grad():\n",
    "        for X, y in dataloader:\n",
    "            pred = model(X.to(device))\n",
    "            # Accumulate the total loss on the test data.\n",
    "            test_loss += loss_fn(pred, y.to(device)).item()\n",
    "            # Count the number of correct answers to calculate the accuracy.\n",
    "            correct += (pred.argmax(1) == y.to(device)).type(torch.float).sum().item()\n",
    "\n",
    "    # Compute average loss and the overall accuracy of the model.\n",
    "    test_loss /= size\n",
    "    correct /= size\n",
    "    print(f\"Test Error: \\n Accuracy: {(100*correct):>0.1f}%, Avg loss: {test_loss:>8f} \\n\")"
   ]
  },
  {
   "cell_type": "code",
   "execution_count": 61,
   "id": "registered-zoning",
   "metadata": {},
   "outputs": [
    {
     "name": "stdout",
     "output_type": "stream",
     "text": [
      "Epoch 1\n",
      "-------------------------------\n",
      "Test Error: \n",
      " Accuracy: 52.8%, Avg loss: 0.022875 \n",
      "\n",
      "Epoch 2\n",
      "-------------------------------\n",
      "Test Error: \n",
      " Accuracy: 58.2%, Avg loss: 0.019900 \n",
      "\n",
      "Epoch 3\n",
      "-------------------------------\n",
      "Test Error: \n",
      " Accuracy: 59.5%, Avg loss: 0.018536 \n",
      "\n",
      "Epoch 4\n",
      "-------------------------------\n",
      "Test Error: \n",
      " Accuracy: 60.2%, Avg loss: 0.017906 \n",
      "\n",
      "Epoch 5\n",
      "-------------------------------\n",
      "Test Error: \n",
      " Accuracy: 60.6%, Avg loss: 0.017549 \n",
      "\n",
      "Epoch 6\n",
      "-------------------------------\n",
      "Test Error: \n",
      " Accuracy: 60.9%, Avg loss: 0.017315 \n",
      "\n",
      "Epoch 7\n",
      "-------------------------------\n",
      "Test Error: \n",
      " Accuracy: 61.0%, Avg loss: 0.017144 \n",
      "\n",
      "Epoch 8\n",
      "-------------------------------\n",
      "Test Error: \n",
      " Accuracy: 61.2%, Avg loss: 0.017007 \n",
      "\n",
      "Epoch 9\n",
      "-------------------------------\n",
      "Test Error: \n",
      " Accuracy: 61.4%, Avg loss: 0.016885 \n",
      "\n",
      "Epoch 10\n",
      "-------------------------------\n",
      "Test Error: \n",
      " Accuracy: 61.5%, Avg loss: 0.016776 \n",
      "\n",
      "Done!\n"
     ]
    }
   ],
   "source": [
    "for t in range(epochs):\n",
    "    print(f\"Epoch {t+1}\\n-------------------------------\")\n",
    "    train_loop(train_dataloader, model, loss_fn, optimizer)\n",
    "    test_loop(test_dataloader, model, loss_fn)\n",
    "print(\"Done!\")"
   ]
  },
  {
   "cell_type": "markdown",
   "id": "atmospheric-parallel",
   "metadata": {},
   "source": [
    "## Saving and loading model parameters"
   ]
  },
  {
   "cell_type": "code",
   "execution_count": 11,
   "id": "running-insulation",
   "metadata": {},
   "outputs": [],
   "source": [
    "# We can now save the trained model parameters using the torch.save function\n",
    "torch.save(model.state_dict(), '../data/params/fmnist_model_weights.pt')"
   ]
  },
  {
   "cell_type": "code",
   "execution_count": 18,
   "id": "female-maine",
   "metadata": {},
   "outputs": [
    {
     "data": {
      "text/plain": [
       "Parameter containing:\n",
       "tensor([[ 0.0204,  0.0131,  0.0302,  ...,  0.0210,  0.0062,  0.0017],\n",
       "        [-0.0027,  0.0169, -0.0093,  ...,  0.0070,  0.0058,  0.0038],\n",
       "        [ 0.0322,  0.0328,  0.0057,  ...,  0.0024, -0.0108,  0.0227],\n",
       "        ...,\n",
       "        [ 0.0052, -0.0266,  0.0251,  ...,  0.0288, -0.0073, -0.0038],\n",
       "        [-0.0057,  0.0106,  0.0311,  ...,  0.0143,  0.0047, -0.0200],\n",
       "        [ 0.0138,  0.0178, -0.0096,  ...,  0.0006, -0.0258, -0.0085]],\n",
       "       device='cuda:0', requires_grad=True)"
      ]
     },
     "execution_count": 18,
     "metadata": {},
     "output_type": "execute_result"
    }
   ],
   "source": [
    "next(model.parameters())"
   ]
  },
  {
   "cell_type": "code",
   "execution_count": 38,
   "id": "plastic-lodging",
   "metadata": {},
   "outputs": [
    {
     "data": {
      "text/plain": [
       "Parameter containing:\n",
       "tensor([[ 0.0304,  0.0180,  0.0037,  ...,  0.0074,  0.0344,  0.0216],\n",
       "        [ 0.0075,  0.0092,  0.0291,  ..., -0.0263, -0.0301, -0.0340],\n",
       "        [ 0.0157, -0.0128, -0.0009,  ...,  0.0076,  0.0176, -0.0340],\n",
       "        ...,\n",
       "        [-0.0232,  0.0247, -0.0314,  ..., -0.0115, -0.0217,  0.0031],\n",
       "        [-0.0276,  0.0234,  0.0257,  ...,  0.0238,  0.0085, -0.0234],\n",
       "        [-0.0356,  0.0119,  0.0042,  ...,  0.0264, -0.0078,  0.0137]],\n",
       "       requires_grad=True)"
      ]
     },
     "execution_count": 38,
     "metadata": {},
     "output_type": "execute_result"
    }
   ],
   "source": [
    "# We can also load the parameters into a new model that has the same architecture shape.\n",
    "# This new model starts with random parameters\n",
    "\n",
    "model_new = NeuralNetwork()\n",
    "next(model_new.parameters())"
   ]
  },
  {
   "cell_type": "code",
   "execution_count": 39,
   "id": "modular-bottle",
   "metadata": {},
   "outputs": [
    {
     "data": {
      "text/plain": [
       "NeuralNetwork(\n",
       "  (flatten): Flatten(start_dim=1, end_dim=-1)\n",
       "  (linear_relu_stack): Sequential(\n",
       "    (0): Linear(in_features=784, out_features=512, bias=True)\n",
       "    (1): ReLU()\n",
       "    (2): Linear(in_features=512, out_features=512, bias=True)\n",
       "    (3): ReLU()\n",
       "    (4): Linear(in_features=512, out_features=10, bias=True)\n",
       "    (5): ReLU()\n",
       "  )\n",
       ")"
      ]
     },
     "execution_count": 39,
     "metadata": {},
     "output_type": "execute_result"
    }
   ],
   "source": [
    "# We can load the saved weights using the load_state_dict() method. \n",
    "# Note: Be sure to call the eval() method before inferencing, which sets the dropout \n",
    "# and batch normalization layers to evaluation mode. Failing to do this will yield \n",
    "# inconsistent inference results.\n",
    "\n",
    "model_new.load_state_dict(torch.load(\"../data/params/fmnist_model_weights.pt\"))\n",
    "model_new.eval()"
   ]
  },
  {
   "cell_type": "code",
   "execution_count": 40,
   "id": "tropical-order",
   "metadata": {},
   "outputs": [
    {
     "data": {
      "text/plain": [
       "Parameter containing:\n",
       "tensor([[ 0.0204,  0.0131,  0.0302,  ...,  0.0210,  0.0062,  0.0017],\n",
       "        [-0.0027,  0.0169, -0.0093,  ...,  0.0070,  0.0058,  0.0038],\n",
       "        [ 0.0322,  0.0328,  0.0057,  ...,  0.0024, -0.0108,  0.0227],\n",
       "        ...,\n",
       "        [ 0.0052, -0.0266,  0.0251,  ...,  0.0288, -0.0073, -0.0038],\n",
       "        [-0.0057,  0.0106,  0.0311,  ...,  0.0143,  0.0047, -0.0200],\n",
       "        [ 0.0138,  0.0178, -0.0096,  ...,  0.0006, -0.0258, -0.0085]],\n",
       "       requires_grad=True)"
      ]
     },
     "execution_count": 40,
     "metadata": {},
     "output_type": "execute_result"
    }
   ],
   "source": [
    "# The new model now has the same parameters as before\n",
    "next(model_new.parameters())"
   ]
  },
  {
   "cell_type": "code",
   "execution_count": 41,
   "id": "olive-showcase",
   "metadata": {},
   "outputs": [],
   "source": [
    "# In this case we had to create a new model that has the same shape as the original.\n",
    "# If we wanted to, we could just save the entire model with architecture as well.\n",
    "torch.save(model, \"../data/params/fmnist_trained_model.pt\")"
   ]
  },
  {
   "cell_type": "code",
   "execution_count": 42,
   "id": "eight-technique",
   "metadata": {},
   "outputs": [
    {
     "data": {
      "text/plain": [
       "NeuralNetwork(\n",
       "  (flatten): Flatten(start_dim=1, end_dim=-1)\n",
       "  (linear_relu_stack): Sequential(\n",
       "    (0): Linear(in_features=784, out_features=512, bias=True)\n",
       "    (1): ReLU()\n",
       "    (2): Linear(in_features=512, out_features=512, bias=True)\n",
       "    (3): ReLU()\n",
       "    (4): Linear(in_features=512, out_features=10, bias=True)\n",
       "    (5): ReLU()\n",
       "  )\n",
       ")"
      ]
     },
     "execution_count": 42,
     "metadata": {},
     "output_type": "execute_result"
    }
   ],
   "source": [
    "# And load the entire model again. Note that this approach relies on Python pickle\n",
    "# serialization, so requires the model class definition to be available when loading.\n",
    "model_new = torch.load(\"../data/params/fmnist_trained_model.pt\")\n",
    "model_new"
   ]
  },
  {
   "cell_type": "code",
   "execution_count": 43,
   "id": "enhanced-reproduction",
   "metadata": {},
   "outputs": [
    {
     "data": {
      "text/plain": [
       "Parameter containing:\n",
       "tensor([[ 0.0204,  0.0131,  0.0302,  ...,  0.0210,  0.0062,  0.0017],\n",
       "        [-0.0027,  0.0169, -0.0093,  ...,  0.0070,  0.0058,  0.0038],\n",
       "        [ 0.0322,  0.0328,  0.0057,  ...,  0.0024, -0.0108,  0.0227],\n",
       "        ...,\n",
       "        [ 0.0052, -0.0266,  0.0251,  ...,  0.0288, -0.0073, -0.0038],\n",
       "        [-0.0057,  0.0106,  0.0311,  ...,  0.0143,  0.0047, -0.0200],\n",
       "        [ 0.0138,  0.0178, -0.0096,  ...,  0.0006, -0.0258, -0.0085]],\n",
       "       device='cuda:0', requires_grad=True)"
      ]
     },
     "execution_count": 43,
     "metadata": {},
     "output_type": "execute_result"
    }
   ],
   "source": [
    "# The parameters are also saved.\n",
    "next(model_new.parameters())"
   ]
  },
  {
   "cell_type": "code",
   "execution_count": null,
   "id": "norwegian-store",
   "metadata": {},
   "outputs": [],
   "source": []
  }
 ],
 "metadata": {
  "kernelspec": {
   "display_name": "Python 3",
   "language": "python",
   "name": "python3"
  },
  "language_info": {
   "codemirror_mode": {
    "name": "ipython",
    "version": 3
   },
   "file_extension": ".py",
   "mimetype": "text/x-python",
   "name": "python",
   "nbconvert_exporter": "python",
   "pygments_lexer": "ipython3",
   "version": "3.8.5"
  }
 },
 "nbformat": 4,
 "nbformat_minor": 5
}
